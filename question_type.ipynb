{
 "cells": [
  {
   "cell_type": "code",
   "execution_count": 312,
   "metadata": {
    "scrolled": true
   },
   "outputs": [],
   "source": [
    "import pandas as pd\n",
    "import string\n",
    "import nltk\n",
    "from nltk.stem.porter import PorterStemmer\n",
    "from sklearn.metrics import accuracy_score\n",
    "from sklearn.model_selection import train_test_split\n",
    "from sklearn.feature_extraction.text import CountVectorizer\n",
    "from sklearn.feature_extraction.text import TfidfTransformer\n",
    "from sklearn import metrics"
   ]
  },
  {
   "cell_type": "code",
   "execution_count": 209,
   "metadata": {},
   "outputs": [
    {
     "data": {
      "text/html": [
       "<div>\n",
       "<style>\n",
       "    .dataframe thead tr:only-child th {\n",
       "        text-align: right;\n",
       "    }\n",
       "\n",
       "    .dataframe thead th {\n",
       "        text-align: left;\n",
       "    }\n",
       "\n",
       "    .dataframe tbody tr th {\n",
       "        vertical-align: top;\n",
       "    }\n",
       "</style>\n",
       "<table border=\"1\" class=\"dataframe\">\n",
       "  <thead>\n",
       "    <tr style=\"text-align: right;\">\n",
       "      <th></th>\n",
       "      <th>question</th>\n",
       "      <th>category</th>\n",
       "    </tr>\n",
       "  </thead>\n",
       "  <tbody>\n",
       "    <tr>\n",
       "      <th>0</th>\n",
       "      <td>how did serfdom develop in and then leave russ...</td>\n",
       "      <td>unknown</td>\n",
       "    </tr>\n",
       "    <tr>\n",
       "      <th>1</th>\n",
       "      <td>what films featured the character popeye doyle ?</td>\n",
       "      <td>what</td>\n",
       "    </tr>\n",
       "    <tr>\n",
       "      <th>2</th>\n",
       "      <td>how can i find a list of celebrities ' real na...</td>\n",
       "      <td>unknown</td>\n",
       "    </tr>\n",
       "    <tr>\n",
       "      <th>3</th>\n",
       "      <td>what fowl grabs the spotlight after the chines...</td>\n",
       "      <td>what</td>\n",
       "    </tr>\n",
       "    <tr>\n",
       "      <th>4</th>\n",
       "      <td>what is the full form of .com ?</td>\n",
       "      <td>what</td>\n",
       "    </tr>\n",
       "    <tr>\n",
       "      <th>5</th>\n",
       "      <td>what contemptible scoundrel stole the cork fro...</td>\n",
       "      <td>what</td>\n",
       "    </tr>\n",
       "    <tr>\n",
       "      <th>6</th>\n",
       "      <td>what team did baseball 's st. louis browns bec...</td>\n",
       "      <td>what</td>\n",
       "    </tr>\n",
       "    <tr>\n",
       "      <th>7</th>\n",
       "      <td>what is the oldest profession ?</td>\n",
       "      <td>what</td>\n",
       "    </tr>\n",
       "    <tr>\n",
       "      <th>8</th>\n",
       "      <td>what are liver enzymes ?</td>\n",
       "      <td>what</td>\n",
       "    </tr>\n",
       "    <tr>\n",
       "      <th>9</th>\n",
       "      <td>name the scar-faced bounty hunter of the old w...</td>\n",
       "      <td>unknown</td>\n",
       "    </tr>\n",
       "  </tbody>\n",
       "</table>\n",
       "</div>"
      ],
      "text/plain": [
       "                                            question category\n",
       "0  how did serfdom develop in and then leave russ...  unknown\n",
       "1  what films featured the character popeye doyle ?      what\n",
       "2  how can i find a list of celebrities ' real na...  unknown\n",
       "3  what fowl grabs the spotlight after the chines...     what\n",
       "4                   what is the full form of .com ?      what\n",
       "5  what contemptible scoundrel stole the cork fro...     what\n",
       "6  what team did baseball 's st. louis browns bec...     what\n",
       "7                   what is the oldest profession ?      what\n",
       "8                          what are liver enzymes ?      what\n",
       "9  name the scar-faced bounty hunter of the old w...  unknown"
      ]
     },
     "execution_count": 209,
     "metadata": {},
     "output_type": "execute_result"
    }
   ],
   "source": [
    "col_names = ['question', 'category']\n",
    "df = pd.read_csv('/Users/moukthika/Desktop/questions.csv', names = col_names)\n",
    "df.head(10)\n",
    "\n",
    "#what the data contains"
   ]
  },
  {
   "cell_type": "code",
   "execution_count": 210,
   "metadata": {
    "scrolled": true
   },
   "outputs": [
    {
     "name": "stdout",
     "output_type": "stream",
     "text": [
      "what time of day did emperor hirohito die ?  : when\n"
     ]
    }
   ],
   "source": [
    "#Printing only the first few rows. On closer look of the  data we see that \"What time\" type sentences have been categorised under\n",
    "#\"when\" instead of \"what\" and it makes sense because \"what time\" or \"what year\" correspond to temporal events that can be \n",
    "#addressed by \"when\"\n",
    "#so the data contains some ambiguity. \n",
    "\n",
    "print( df.question[395], \":\", df.category[395])"
   ]
  },
  {
   "cell_type": "code",
   "execution_count": 211,
   "metadata": {},
   "outputs": [
    {
     "data": {
      "image/png": "[encoded data removed]",
      "text/plain": [
       "<matplotlib.figure.Figure at 0xe58ef70>"
      ]
     },
     "metadata": {},
     "output_type": "display_data"
    }
   ],
   "source": [
    "import matplotlib.pyplot as plt\n",
    "fig = plt.figure(figsize=(8,6))\n",
    "df.groupby('category').question.count().plot.bar(ylim=0)\n",
    "plt.show()\n",
    "\n",
    "#Visualising the data with respect to the category the questions have to be classified into"
   ]
  },
  {
   "cell_type": "code",
   "execution_count": 212,
   "metadata": {
    "collapsed": true
   },
   "outputs": [],
   "source": [
    "#pre processing the data before vectorising it.\n",
    "\n",
    "porter = PorterStemmer()\n",
    "def preprocessing(string):\n",
    "    words = nltk.word_tokenize(string) #splitting the sentences into words\n",
    "    words = [w.lower() for w in words] #converting all words to lower case to avoid have separate vectors for words such as \"now\" and \"Now\" i\n",
    "    words = [word for word in words if word.isalpha()] #removing everything that is not alphabetic to get rid of punctuations.\n",
    "    \n",
    "    \n",
    "    #stop_words = stopwords.words('english')\n",
    "    #words = [w for w in words if not w in stop_words]\n",
    "    \n",
    "    #stop_words contain words like \"when\", \"what\", \"how\", auxilaries and modal auxilaries that are used in forming questions\n",
    "    #so getting rid of them will fail the purpose of the model. \n",
    "    \n",
    "    stemmed = [porter.stem(word) for word in words] #to reduce the word to it's root/base. Since we are not looking at a deeper meaning of a word here and want to reduce the vocanulary size.\n",
    "    words = stemmed\n",
    "    return words"
   ]
  },
  {
   "cell_type": "code",
   "execution_count": 214,
   "metadata": {},
   "outputs": [
    {
     "data": {
      "text/plain": [
       "(1483, 85)"
      ]
     },
     "execution_count": 214,
     "metadata": {},
     "output_type": "execute_result"
    }
   ],
   "source": [
    "#Since we cannot work with text directly for ML algorithms, the text has to be converted to meaninful numbers. \n",
    "#One way of doing it is with Bag of Words model.\n",
    "#In Bag of Words model one can get rid of the sequential data (which is language) and only focus on the word occurances, \n",
    "#Tfidf is one type of Bag of Words model. \n",
    "#This is an acronym than stands for “Term Frequency – Inverse Document” Frequency which are the components of the resulting scores assigned to each word.\n",
    "#Term Frequency: This summarizes how often a given word appears within a document.\n",
    "#Inverse Document Frequency: This downscales words that appear a lot across documents.\n",
    "\n",
    "#From the visual above, we clearly have a class imbalance, i.e there are more 'what' type sentences than 'when' or 'affirmation'\n",
    "#Well the inverse document frequency of 'what' will be very low (because it is found in most documents), \n",
    "#so the feature 'what' will get a very small TFIDF, which is the weight of the feature used by the classifier.\n",
    "#TF-IDF are word frequency scores that try to highlight words that are more interesting, \n",
    "#e.g. frequent in a document but not across documents.\n",
    "\n",
    "from sklearn.feature_extraction.text import TfidfVectorizer\n",
    "tfidf = TfidfVectorizer(sublinear_tf=True, min_df=10, max_df = 15, norm='l2', encoding='latin-1', ngram_range=(1,3), tokenizer = preprocessing)\n",
    "#the n-gram range is between 1 and 3 i.e the vectors of unigrams, bigrams and trigrams will be generated\n",
    "#this is important here because we want to work around ambiguity. Using only unigrams would not work as well as using bigrams where\n",
    "#we can capture \"what time\" or \"what time does\" together instead of \"what\" spearately. \n",
    "\n",
    "features = tfidf.fit_transform(df.question).toarray() #the tfidf vectors of the questions will serve as features\n",
    "labels = df.category\n",
    "features.shape"
   ]
  },
  {
   "cell_type": "code",
   "execution_count": 215,
   "metadata": {
    "collapsed": true
   },
   "outputs": [],
   "source": [
    "#splitting the test and train set\n",
    "X_train, X_test, y_train, y_test = train_test_split(df['question'], df['category'], random_state = 42, test_size = 0.2)\n",
    "count_vect = CountVectorizer()\n",
    "X_train_counts = count_vect.fit_transform(X_train)\n",
    "tfidf_transformer = TfidfTransformer()\n",
    "X_train_tfidf = tfidf_transformer.fit_transform(X_train_counts)"
   ]
  },
  {
   "cell_type": "code",
   "execution_count": null,
   "metadata": {
    "collapsed": true
   },
   "outputs": [],
   "source": [
    "                                                \"\"\"Using Naive Bayes\"\"\""
   ]
  },
  {
   "cell_type": "code",
   "execution_count": 216,
   "metadata": {
    "collapsed": true
   },
   "outputs": [],
   "source": [
    "from sklearn.naive_bayes import MultinomialNB\n",
    "model_nb = MultinomialNB(alpha = 1.0)\n",
    "clf_nb = model_nb.fit(X_train_tfidf, y_train)"
   ]
  },
  {
   "cell_type": "code",
   "execution_count": 217,
   "metadata": {},
   "outputs": [
    {
     "name": "stdout",
     "output_type": "stream",
     "text": [
      "0.83164983165\n"
     ]
    }
   ],
   "source": [
    "prediction_nb =  clf_nb.predict(count_vect.transform(X_test))\n",
    "print(accuracy_score(y_test, prediction_nb))"
   ]
  },
  {
   "cell_type": "code",
   "execution_count": 218,
   "metadata": {},
   "outputs": [
    {
     "name": "stdout",
     "output_type": "stream",
     "text": [
      "['what']\n"
     ]
    }
   ],
   "source": [
    "#not a great accuracy and \"when\" is being identified as \"what\"\n",
    "print(clf_nb.predict(count_vect.transform([\"when are you going?\"])))"
   ]
  },
  {
   "cell_type": "code",
   "execution_count": null,
   "metadata": {
    "collapsed": true
   },
   "outputs": [],
   "source": [
    "                                                    \"\"\"Using SVM\"\"\""
   ]
  },
  {
   "cell_type": "code",
   "execution_count": 272,
   "metadata": {},
   "outputs": [],
   "source": [
    "from sklearn import svm\n",
    "model_svm = svm.LinearSVC()\n",
    "clf_svm = model_svm.fit(X_train_tfidf, y_train)"
   ]
  },
  {
   "cell_type": "code",
   "execution_count": 273,
   "metadata": {},
   "outputs": [
    {
     "name": "stdout",
     "output_type": "stream",
     "text": [
      "0.952861952862\n"
     ]
    }
   ],
   "source": [
    "prediction_svm = clf_svm.predict(count_vect.transform(X_test))\n",
    "print(accuracy_score(y_test, prediction_svm))"
   ]
  },
  {
   "cell_type": "code",
   "execution_count": 221,
   "metadata": {},
   "outputs": [
    {
     "name": "stdout",
     "output_type": "stream",
     "text": [
      "['what']\n",
      "['what']\n",
      "['what']\n",
      "['what']\n",
      "['unknown']\n",
      "['who']\n",
      "['what']\n",
      "['when']\n",
      "['what']\n",
      "['what']\n",
      "['what']\n",
      "['affirmation']\n"
     ]
    }
   ],
   "source": [
    "#the accuracy is quite good\n",
    "#and the data is being classified into the right category(at least superficially), but this is not what we really want.\n",
    "print(clf_svm.predict(count_vect.transform([\"what time can you reach?\"])))\n",
    "print(clf_svm.predict(count_vect.transform([\"what time will you reach?\"])))\n",
    "print(clf_svm.predict(count_vect.transform([\"what day is your birthday?\"])))\n",
    "print(clf_svm.predict(count_vect.transform([\"what time will your bring it?\"])))\n",
    "print(clf_svm.predict(count_vect.transform([\"How did serfdom develop in and then leave Russia ?\"])))\n",
    "print(clf_svm.predict(count_vect.transform([\"Who followed Caesar ?\"])))\n",
    "print(clf_svm.predict(count_vect.transform([\"What college produced the most winning Super Bowl quarterbacks ?\"])))\n",
    "print(clf_svm.predict(count_vect.transform([\" When did the Dow first reach ?\"])))\n",
    "print(clf_svm.predict(count_vect.transform([\"what time will is your train?\"])))\n",
    "print(clf_svm.predict(count_vect.transform([\"what time is the lecture starting?\"])))\n",
    "print(clf_svm.predict(count_vect.transform([\"what time is her interview?\"])))\n",
    "print(clf_svm.predict(count_vect.transform([\"will you take me to the town?\"])))"
   ]
  },
  {
   "cell_type": "code",
   "execution_count": null,
   "metadata": {
    "collapsed": true
   },
   "outputs": [],
   "source": [
    "                                                    \"\"\"Using SGD\"\"\""
   ]
  },
  {
   "cell_type": "code",
   "execution_count": 222,
   "metadata": {},
   "outputs": [
    {
     "name": "stderr",
     "output_type": "stream",
     "text": [
      "C:\\Users\\moukthika\\AppData\\Local\\Continuum\\anaconda3\\lib\\site-packages\\sklearn\\linear_model\\stochastic_gradient.py:128: FutureWarning: max_iter and tol parameters have been added in <class 'sklearn.linear_model.stochastic_gradient.SGDClassifier'> in 0.19. If both are left unset, they default to max_iter=5 and tol=None. If tol is not None, max_iter defaults to max_iter=1000. From 0.21, default max_iter will be 1000, and default tol will be 1e-3.\n",
      "  \"and default tol will be 1e-3.\" % type(self), FutureWarning)\n"
     ]
    },
    {
     "data": {
      "text/plain": [
       "SGDClassifier(alpha=0.0001, average=False, class_weight=None, epsilon=0.1,\n",
       "       eta0=0.0, fit_intercept=True, l1_ratio=0.15,\n",
       "       learning_rate='optimal', loss='hinge', max_iter=None, n_iter=None,\n",
       "       n_jobs=1, penalty='l2', power_t=0.5, random_state=42, shuffle=True,\n",
       "       tol=None, verbose=0, warm_start=False)"
      ]
     },
     "execution_count": 222,
     "metadata": {},
     "output_type": "execute_result"
    }
   ],
   "source": [
    "from sklearn.linear_model import SGDClassifier\n",
    "sgd_clf = SGDClassifier(random_state=42) \n",
    "sgd_clf.fit(X_train_tfidf, y_train)\n"
   ]
  },
  {
   "cell_type": "code",
   "execution_count": 223,
   "metadata": {},
   "outputs": [
    {
     "name": "stdout",
     "output_type": "stream",
     "text": [
      "0.939393939394\n"
     ]
    }
   ],
   "source": [
    "#less accurate than SVM\n",
    "prediction_sgd = sgd_clf.predict(count_vect.transform(X_test))\n",
    "print(accuracy_score(y_test, prediction_sgd))"
   ]
  },
  {
   "cell_type": "code",
   "execution_count": 224,
   "metadata": {},
   "outputs": [
    {
     "name": "stdout",
     "output_type": "stream",
     "text": [
      "['what']\n"
     ]
    }
   ],
   "source": [
    "print(sgd_clf.predict(count_vect.transform([\"what time can you reach?\"])))"
   ]
  },
  {
   "cell_type": "code",
   "execution_count": null,
   "metadata": {
    "collapsed": true
   },
   "outputs": [],
   "source": [
    "                                                \"\"\"Random Forest\"\"\""
   ]
  },
  {
   "cell_type": "code",
   "execution_count": 225,
   "metadata": {},
   "outputs": [
    {
     "data": {
      "text/plain": [
       "RandomForestClassifier(bootstrap=True, class_weight=None, criterion='gini',\n",
       "            max_depth=None, max_features='auto', max_leaf_nodes=None,\n",
       "            min_impurity_decrease=0.0, min_impurity_split=None,\n",
       "            min_samples_leaf=1, min_samples_split=2,\n",
       "            min_weight_fraction_leaf=0.0, n_estimators=100, n_jobs=1,\n",
       "            oob_score=False, random_state=42, verbose=0, warm_start=False)"
      ]
     },
     "execution_count": 225,
     "metadata": {},
     "output_type": "execute_result"
    }
   ],
   "source": [
    "from sklearn.ensemble import RandomForestClassifier \n",
    "model_rc=RandomForestClassifier(n_estimators=100, random_state = 42)\n",
    "model_rc.fit(X_train_tfidf, y_train)"
   ]
  },
  {
   "cell_type": "code",
   "execution_count": 226,
   "metadata": {},
   "outputs": [
    {
     "name": "stdout",
     "output_type": "stream",
     "text": [
      "0.949494949495\n"
     ]
    }
   ],
   "source": [
    "#better accuracy than SGD but not SVM\n",
    "#and the prediction made for \"what time\" is correct in 2 cases here.\n",
    "prediction_rc = model_rc.predict(count_vect.transform(X_test))\n",
    "print(accuracy_score(y_test, prediction_rc))"
   ]
  },
  {
   "cell_type": "code",
   "execution_count": 227,
   "metadata": {},
   "outputs": [
    {
     "name": "stdout",
     "output_type": "stream",
     "text": [
      "['when']\n",
      "['what']\n",
      "['when']\n",
      "['unknown']\n",
      "['who']\n",
      "['what']\n",
      "['when']\n",
      "['what']\n",
      "['what']\n",
      "['what']\n",
      "['affirmation']\n"
     ]
    }
   ],
   "source": [
    "print(model_rc.predict(count_vect.transform([\"what time will you reach?\"])))\n",
    "print(model_rc.predict(count_vect.transform([\"what day is your birthday?\"])))\n",
    "print(model_rc.predict(count_vect.transform([\"what time will your bring it?\"])))\n",
    "print(model_rc.predict(count_vect.transform([\"How did serfdom develop in and then leave Russia ?\"])))\n",
    "print(model_rc.predict(count_vect.transform([\"Who followed Caesar ?\"])))\n",
    "print(model_rc.predict(count_vect.transform([\"What college produced the most winning Super Bowl quarterbacks ?\"])))\n",
    "print(model_rc.predict(count_vect.transform([\" When did the Dow first reach ?\"])))\n",
    "print(model_rc.predict(count_vect.transform([\"what time will is your train?\"])))\n",
    "print(model_rc.predict(count_vect.transform([\"what time is the lecture starting?\"])))\n",
    "print(model_rc.predict(count_vect.transform([\"what time is her interview?\"])))\n",
    "print(model_rc.predict(count_vect.transform([\"will you take me to the town?\"])))\n"
   ]
  },
  {
   "cell_type": "code",
   "execution_count": null,
   "metadata": {
    "collapsed": true
   },
   "outputs": [],
   "source": [
    "                                            \"\"\"Decision Tree\"\"\""
   ]
  },
  {
   "cell_type": "code",
   "execution_count": 228,
   "metadata": {},
   "outputs": [
    {
     "data": {
      "text/plain": [
       "DecisionTreeClassifier(class_weight=None, criterion='gini', max_depth=None,\n",
       "            max_features=None, max_leaf_nodes=None,\n",
       "            min_impurity_decrease=0.0, min_impurity_split=None,\n",
       "            min_samples_leaf=1, min_samples_split=2,\n",
       "            min_weight_fraction_leaf=0.0, presort=False, random_state=None,\n",
       "            splitter='best')"
      ]
     },
     "execution_count": 228,
     "metadata": {},
     "output_type": "execute_result"
    }
   ],
   "source": [
    "from sklearn import tree\n",
    "model_dt=tree.DecisionTreeClassifier()\n",
    "model_dt.fit(X_train_tfidf, y_train)"
   ]
  },
  {
   "cell_type": "code",
   "execution_count": 229,
   "metadata": {},
   "outputs": [
    {
     "name": "stdout",
     "output_type": "stream",
     "text": [
      "0.888888888889\n"
     ]
    }
   ],
   "source": [
    "#the accuray is poor\n",
    "#however, \"what-time\" is being categorized very well! The classifier however is not very good with affirmations. \n",
    "prediction_dt = model_dt.predict(count_vect.transform(X_test))\n",
    "print(accuracy_score(y_test, prediction_dt))"
   ]
  },
  {
   "cell_type": "code",
   "execution_count": 297,
   "metadata": {},
   "outputs": [
    {
     "name": "stdout",
     "output_type": "stream",
     "text": [
      "['when']\n",
      "['when']\n",
      "['when']\n",
      "['when']\n",
      "['what']\n",
      "['when']\n",
      "['unknown']\n",
      "['who']\n",
      "['what']\n",
      "['when']\n",
      "['when']\n",
      "['when']\n",
      "['when']\n",
      "['unknown']\n",
      "['affirmation']\n",
      "['affirmation']\n",
      "['unknown']\n",
      "['unknown']\n",
      "['unknown']\n"
     ]
    }
   ],
   "source": [
    "print(model_dt.predict(count_vect.transform([\"what time will you go?\"])))\n",
    "print(model_dt.predict(count_vect.transform([\"what time is your interview?\"])))\n",
    "print(model_dt.predict(count_vect.transform([\"what time is the match starting?\"])))\n",
    "print(model_dt.predict(count_vect.transform([\"what time will you reach?\"])))\n",
    "print(model_dt.predict(count_vect.transform([\"what day is your birthday?\"])))\n",
    "print(model_dt.predict(count_vect.transform([\"what time will your bring it?\"])))\n",
    "print(model_dt.predict(count_vect.transform([\"How did serfdom develop in and then leave Russia ?\"])))\n",
    "print(model_dt.predict(count_vect.transform([\"Who followed Caesar ?\"])))\n",
    "print(model_dt.predict(count_vect.transform([\"What college produced the most winning Super Bowl quarterbacks ?\"])))\n",
    "print(model_dt.predict(count_vect.transform([\" When did the Dow first reach ?\"])))\n",
    "print(model_dt.predict(count_vect.transform([\"what time will is your train?\"])))\n",
    "print(model_dt.predict(count_vect.transform([\"what time is the lecture starting?\"])))\n",
    "print(model_dt.predict(count_vect.transform([\"what time is her interview?\"])))\n",
    "print(model_dt.predict(count_vect.transform([\"will you take me to the town?\"])))\n",
    "print(model_dt.predict(count_vect.transform([\"can you put 100 chocolates in that small cover?\"])))\n",
    "print(model_dt.predict(count_vect.transform([\"how are you doing this evening little girl?\"])))\n",
    "print(model_dt.predict(count_vect.transform([\"will you put 100 chocolates in that small cover?\"])))\n",
    "print(model_dt.predict(count_vect.transform([\"will the night be aware of the danger?\"])))\n",
    "print(model_dt.predict(count_vect.transform([\"will you take me to the kingdom?\"])))"
   ]
  },
  {
   "cell_type": "code",
   "execution_count": null,
   "metadata": {
    "collapsed": true
   },
   "outputs": [],
   "source": [
    "                                                    \"\"\"KNeighbours\"\"\""
   ]
  },
  {
   "cell_type": "code",
   "execution_count": 231,
   "metadata": {},
   "outputs": [
    {
     "data": {
      "text/plain": [
       "KNeighborsClassifier(algorithm='auto', leaf_size=30, metric='minkowski',\n",
       "           metric_params=None, n_jobs=1, n_neighbors=5, p=2,\n",
       "           weights='uniform')"
      ]
     },
     "execution_count": 231,
     "metadata": {},
     "output_type": "execute_result"
    }
   ],
   "source": [
    "from sklearn.neighbors import KNeighborsClassifier\n",
    "clf_knn = KNeighborsClassifier()\n",
    "clf_knn.fit(X_train_tfidf, y_train)"
   ]
  },
  {
   "cell_type": "code",
   "execution_count": 232,
   "metadata": {},
   "outputs": [
    {
     "name": "stdout",
     "output_type": "stream",
     "text": [
      "0.828282828283\n"
     ]
    }
   ],
   "source": [
    "#the accuracy is not even as good as Naive Bayes'\n",
    "# the prediction for the sentence is also not great. \n",
    "prediction_knn = clf_knn.predict(count_vect.transform(X_test))\n",
    "print(accuracy_score(y_test, prediction_knn))"
   ]
  },
  {
   "cell_type": "code",
   "execution_count": 233,
   "metadata": {},
   "outputs": [
    {
     "name": "stdout",
     "output_type": "stream",
     "text": [
      "['affirmation']\n"
     ]
    }
   ],
   "source": [
    "print(clf_knn.predict(count_vect.transform([\"what time is it?\"])))"
   ]
  },
  {
   "cell_type": "code",
   "execution_count": null,
   "metadata": {
    "collapsed": true
   },
   "outputs": [],
   "source": [
    "                                                \"\"\"Extra Tree Classifier\"\"\""
   ]
  },
  {
   "cell_type": "code",
   "execution_count": 234,
   "metadata": {},
   "outputs": [
    {
     "data": {
      "text/plain": [
       "ExtraTreesClassifier(bootstrap=False, class_weight=None, criterion='gini',\n",
       "           max_depth=None, max_features='auto', max_leaf_nodes=None,\n",
       "           min_impurity_decrease=0.0, min_impurity_split=None,\n",
       "           min_samples_leaf=1, min_samples_split=2,\n",
       "           min_weight_fraction_leaf=0.0, n_estimators=10, n_jobs=1,\n",
       "           oob_score=False, random_state=0, verbose=0, warm_start=False)"
      ]
     },
     "execution_count": 234,
     "metadata": {},
     "output_type": "execute_result"
    }
   ],
   "source": [
    "from sklearn.ensemble import ExtraTreesClassifier\n",
    "clf_etc = ExtraTreesClassifier(n_estimators=10, max_depth=None,\n",
    "min_samples_split=2, random_state=0)\n",
    "clf_etc.fit(X_train_tfidf, y_train)"
   ]
  },
  {
   "cell_type": "code",
   "execution_count": 235,
   "metadata": {},
   "outputs": [
    {
     "name": "stdout",
     "output_type": "stream",
     "text": [
      "0.929292929293\n"
     ]
    }
   ],
   "source": [
    "#accuracy not as good\n",
    "#but \"what time\" labelled correctly\n",
    "prediction_etc = clf_etc.predict(count_vect.transform(X_test))\n",
    "print(accuracy_score(y_test, prediction_etc))"
   ]
  },
  {
   "cell_type": "code",
   "execution_count": 236,
   "metadata": {},
   "outputs": [
    {
     "name": "stdout",
     "output_type": "stream",
     "text": [
      "['when']\n",
      "['what']\n",
      "['what']\n"
     ]
    }
   ],
   "source": [
    "print(clf_etc.predict(count_vect.transform([\"what time will you go?\"])))\n",
    "print(clf_etc.predict(count_vect.transform([\"what time is your interview?\"])))\n",
    "print(clf_etc.predict(count_vect.transform([\"what time is the match starting?\"])))"
   ]
  },
  {
   "cell_type": "code",
   "execution_count": null,
   "metadata": {
    "collapsed": true
   },
   "outputs": [],
   "source": [
    "                                            \"\"\"Voting Classifier\"\"\""
   ]
  },
  {
   "cell_type": "code",
   "execution_count": 309,
   "metadata": {},
   "outputs": [
    {
     "data": {
      "text/plain": [
       "VotingClassifier(estimators=[('dt', DecisionTreeClassifier(class_weight=None, criterion='gini', max_depth=None,\n",
       "            max_features=None, max_leaf_nodes=None,\n",
       "            min_impurity_decrease=0.0, min_impurity_split=None,\n",
       "            min_samples_leaf=1, min_samples_split=2,\n",
       "            min_weight_fraction_leaf...ax_iter=1000,\n",
       "     multi_class='ovr', penalty='l2', random_state=None, tol=0.0001,\n",
       "     verbose=0))],\n",
       "         flatten_transform=None, n_jobs=1, voting='hard', weights=[3, 1])"
      ]
     },
     "execution_count": 309,
     "metadata": {},
     "output_type": "execute_result"
    }
   ],
   "source": [
    "#to combine the best of decision tree and svm\n",
    "vc = VotingClassifier(estimators=[('dt',model_dt),('svm',clf_svm)],\n",
    "                        voting='hard',\n",
    "                        weights=[3,1])\n",
    "vc.fit(X_train_tfidf, y_train)"
   ]
  },
  {
   "cell_type": "code",
   "execution_count": 310,
   "metadata": {},
   "outputs": [
    {
     "name": "stdout",
     "output_type": "stream",
     "text": [
      "0.882154882155\n"
     ]
    }
   ],
   "source": [
    "prediction_vc= vc.predict(count_vect.transform(X_test))\n",
    "print(accuracy_score(y_test, prediction_vc))"
   ]
  },
  {
   "cell_type": "code",
   "execution_count": 311,
   "metadata": {},
   "outputs": [
    {
     "name": "stdout",
     "output_type": "stream",
     "text": [
      "['when']\n",
      "['when']\n",
      "['when']\n",
      "['who']\n",
      "['what']\n",
      "['when']\n"
     ]
    }
   ],
   "source": [
    "print(vc.predict(count_vect.transform([\"what time will you go?\"])))\n",
    "print(vc.predict(count_vect.transform([\"what time is your interview?\"])))\n",
    "print(vc.predict(count_vect.transform([\"what time is the match starting?\"])))\n",
    "print(vc.predict(count_vect.transform([\"Who followed Caesar ?\"])))\n",
    "print(vc.predict(count_vect.transform([\"What college produced the most winning Super Bowl quarterbacks ?\"])))\n",
    "print(vc.predict(count_vect.transform([\" When did the Dow first reach ?\"])))"
   ]
  },
  {
   "cell_type": "code",
   "execution_count": null,
   "metadata": {
    "collapsed": true
   },
   "outputs": [],
   "source": [
    "\"\"\"Of all the models SVM has highest accuracy(95.28) followed by Random Forest(94.49). However, when it comesto handling the ambiguities, \n",
    "such as \"what time\" for \"when\", Random Forest does better. The good performance of random forests could be due to that it is an \n",
    "ensemble technique and ensemble techniques perform well with data having imbalanced classes such as ours.\n",
    "\n",
    "However, Random Forests are known to reduce in performance when the data is much larger and sparse.\n",
    "\n",
    "The decision tree classifier on the other hand is modelling the ambiguity presented by \"what time\" well despite a low accuracy,\n",
    "the low accuracy could be due to it's miscategorization of few affirmative questions, such as those startimg with 'will' \n",
    "\n",
    "Random Forests seem to be performing optimally, with good accuracy and also identifying ambiguity.\n",
    "\n",
    "An ensemble of decision tree and svm gives an accuracy of 88. One should tweak the weights to either get a high overall accuracy\n",
    "or to be able to classify ambiguities. \n",
    "\n",
    "One can thus choose their classifier depending on the need. \"\"\"\n",
    "\n"
   ]
  }
 ],
 "metadata": {
  "kernelspec": {
   "display_name": "Python 3",
   "language": "python",
   "name": "python3"
  },
  "language_info": {
   "codemirror_mode": {
    "name": "ipython",
    "version": 3
   },
   "file_extension": ".py",
   "mimetype": "text/x-python",
   "name": "python",
   "nbconvert_exporter": "python",
   "pygments_lexer": "ipython3",
   "version": "3.6.3"
  }
 },
 "nbformat": 4,
 "nbformat_minor": 2
}
